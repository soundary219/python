{
 "cells": [
  {
   "cell_type": "code",
   "execution_count": 2,
   "metadata": {},
   "outputs": [
    {
     "name": "stdout",
     "output_type": "stream",
     "text": [
      "<re.Match object; span=(0, 31), match='email Id : call.del@airindia.in'>\n",
      "email Id : call.del@airindia.in\n",
      " call.del@airindia.in\n",
      "airindia\n"
     ]
    }
   ],
   "source": [
    "import re\n",
    "str1='email Id : call.del@airindia.in'\n",
    "match=re.search(r'[a-zA-Z ]+:([a-zA-Z ]+\\.[a-z]+@([a-z]+)\\.[a-z]+)',str1)\n",
    "print(match)\n",
    "print(match.group(0))\n",
    "print(match.group(1))\n",
    "print(match.group(2))"
   ]
  },
  {
   "cell_type": "code",
   "execution_count": 4,
   "metadata": {},
   "outputs": [
    {
     "name": "stdout",
     "output_type": "stream",
     "text": [
      "\n"
     ]
    },
    {
     "ename": "ValueError",
     "evalue": "invalid literal for int() with base 10: ''",
     "output_type": "error",
     "traceback": [
      "\u001b[1;31m---------------------------------------------------------------------------\u001b[0m",
      "\u001b[1;31mValueError\u001b[0m                                Traceback (most recent call last)",
      "\u001b[1;32m<ipython-input-4-628121954705>\u001b[0m in \u001b[0;36m<module>\u001b[1;34m\u001b[0m\n\u001b[1;32m----> 1\u001b[1;33m \u001b[1;32mfor\u001b[0m \u001b[0m_\u001b[0m \u001b[1;32min\u001b[0m \u001b[0mrange\u001b[0m\u001b[1;33m(\u001b[0m\u001b[0mint\u001b[0m\u001b[1;33m(\u001b[0m\u001b[0minput\u001b[0m\u001b[1;33m(\u001b[0m\u001b[1;33m)\u001b[0m\u001b[1;33m)\u001b[0m\u001b[1;33m)\u001b[0m\u001b[1;33m:\u001b[0m\u001b[1;33m\u001b[0m\u001b[1;33m\u001b[0m\u001b[0m\n\u001b[0m\u001b[0;32m      2\u001b[0m     \u001b[0mline\u001b[0m \u001b[1;33m=\u001b[0m \u001b[0minput\u001b[0m\u001b[1;33m(\u001b[0m\u001b[1;33m)\u001b[0m\u001b[1;33m\u001b[0m\u001b[1;33m\u001b[0m\u001b[0m\n\u001b[0;32m      3\u001b[0m \u001b[1;33m\u001b[0m\u001b[0m\n\u001b[0;32m      4\u001b[0m     \u001b[1;32mwhile\u001b[0m \u001b[1;34m' && '\u001b[0m \u001b[1;32min\u001b[0m \u001b[0mline\u001b[0m \u001b[1;32mor\u001b[0m \u001b[1;34m' || '\u001b[0m \u001b[1;32min\u001b[0m \u001b[0mline\u001b[0m\u001b[1;33m:\u001b[0m\u001b[1;33m\u001b[0m\u001b[1;33m\u001b[0m\u001b[0m\n\u001b[0;32m      5\u001b[0m         \u001b[0mline\u001b[0m \u001b[1;33m=\u001b[0m \u001b[0mline\u001b[0m\u001b[1;33m.\u001b[0m\u001b[0mreplace\u001b[0m\u001b[1;33m(\u001b[0m\u001b[1;34m\" && \"\u001b[0m\u001b[1;33m,\u001b[0m \u001b[1;34m\" and \"\u001b[0m\u001b[1;33m)\u001b[0m\u001b[1;33m.\u001b[0m\u001b[0mreplace\u001b[0m\u001b[1;33m(\u001b[0m\u001b[1;34m\" || \"\u001b[0m\u001b[1;33m,\u001b[0m \u001b[1;34m\" or \"\u001b[0m\u001b[1;33m)\u001b[0m\u001b[1;33m\u001b[0m\u001b[1;33m\u001b[0m\u001b[0m\n",
      "\u001b[1;31mValueError\u001b[0m: invalid literal for int() with base 10: ''"
     ]
    }
   ],
   "source": [
    "\n",
    "for _ in range(int(input())):\n",
    "    line = input()\n",
    "    \n",
    "    while ' && ' in line or ' || ' in line:\n",
    "        line = line.replace(\" && \", \" and \").replace(\" || \", \" or \")\n",
    "    \n",
    "    print(line)\n",
    "    "
   ]
  },
  {
   "cell_type": "code",
   "execution_count": null,
   "metadata": {},
   "outputs": [],
   "source": [
    "import re\n",
    "str1='email Id : call.del@airindia.in'\n",
    "match=re.serach(r'\\S+@\\S+)"
   ]
  },
  {
   "cell_type": "code",
   "execution_count": 2,
   "metadata": {},
   "outputs": [
    {
     "name": "stdout",
     "output_type": "stream",
     "text": [
      "<re.Match object; span=(15, 30), match=' : 011-24667473'>\n",
      "<re.Match object; span=(15, 30), match=' : 011.24667473'>\n",
      "<re.Match object; span=(15, 30), match=' : 011*24667473'>\n"
     ]
    }
   ],
   "source": [
    "import re\n",
    "str1='Landline Number : 011-24667473'\n",
    "str2='Landline Number : 011.24667473'\n",
    "str3='Landline Number : 011*24667473'\n",
    "match=re.search(r'[a-zA-Z ]: [0-9]+.[0-9]+',str1)\n",
    "match1=re.search(r'[a-zA-Z ]: [0-9]+.[0-9]+',str2)\n",
    "match2=re.search(r'[a-zA-Z ]: [0-9]+.[0-9]+',str3)\n",
    "print(match)\n",
    "print(match1)\n",
    "print(match2)\n",
    "\n",
    "\n",
    "               \n"
   ]
  },
  {
   "cell_type": "code",
   "execution_count": 3,
   "metadata": {},
   "outputs": [
    {
     "name": "stdout",
     "output_type": "stream",
     "text": [
      "<re.Match object; span=(0, 46), match='(Monday to Saturday,0930 hrs. - 1730 hrs. IST)'>\n",
      "(Monday to Saturday,0930 hrs. - 1730 hrs. IST)\n",
      "0930 hrs. - 1730 hrs. \n"
     ]
    }
   ],
   "source": [
    "str1='(Monday to Saturday,0930 hrs. - 1730 hrs. IST)'\n",
    "match=re.search(r'[a-zA-Z \\(]+,([a-z0-9. -]+)[A-Z\\)]+',str1)\n",
    "print(match)\n",
    "print(match.group(0))\n",
    "print(match.group(1))"
   ]
  },
  {
   "cell_type": "code",
   "execution_count": 11,
   "metadata": {},
   "outputs": [
    {
     "name": "stdout",
     "output_type": "stream",
     "text": [
      "<re.Match object; span=(18, 30), match='011-24667473'>\n",
      "011-24667473\n",
      "24667473\n"
     ]
    }
   ],
   "source": [
    "import re\n",
    "str1='Landline Number : 011-24667473'\n",
    "match=re.search(r'\\d{3}-(\\d{8})',str1)\n",
    "print(match)\n",
    "print(match.group(0))\n",
    "print(match.group(1))"
   ]
  },
  {
   "cell_type": "code",
   "execution_count": 13,
   "metadata": {},
   "outputs": [
    {
     "name": "stdout",
     "output_type": "stream",
     "text": [
      "o\n",
      "o o "
     ]
    }
   ],
   "source": [
    "import re\n",
    "str1='Hello World'\n",
    "matches=re.search(r'o',str1)\n",
    "print(matches.group(0))\n",
    "\n",
    "pattern=re.compile(r'o')\n",
    "matches=pattern.finditer(str1)\n",
    "for i in matches:\n",
    "    print(i.group(0),end=\" \")"
   ]
  },
  {
   "cell_type": "code",
   "execution_count": 16,
   "metadata": {},
   "outputs": [],
   "source": [
    "fid=open(r'C://Users/Trainee/Desktop/sound/ais.txt','w')\n",
    "fid.write(\"hai\")\n",
    "fid.close()\n"
   ]
  },
  {
   "cell_type": "code",
   "execution_count": 18,
   "metadata": {},
   "outputs": [],
   "source": [
    "with open(r'C://Users/Trainee/Desktop/sound/ais.txt') as f:\n",
    "    with open(r'C://Users/Trainee/Desktop/sound/new.txt', \"w\") as f1:\n",
    "        for line in f:\n",
    "            f1.write(line)"
   ]
  },
  {
   "cell_type": "code",
   "execution_count": 21,
   "metadata": {},
   "outputs": [
    {
     "name": "stdout",
     "output_type": "stream",
     "text": [
      "enter the number1:10\n",
      "enter the number2:0\n",
      "second no should be greater than zero\n",
      "error:division by zero\n"
     ]
    }
   ],
   "source": [
    "try:\n",
    "    num1=int(input(\"enter the number1:\"))\n",
    "    num2=int(input(\"enter the number2:\"))\n",
    "    print(num1/num2)\n",
    "except ValueError:\n",
    "    print(\"enter no\")\n",
    "except ZeroDivisionError as err:\n",
    "    print(\"second no should be greater than zero\")\n",
    "    print(\"error:{}\".format(err))"
   ]
  },
  {
   "cell_type": "code",
   "execution_count": 26,
   "metadata": {},
   "outputs": [
    {
     "name": "stdout",
     "output_type": "stream",
     "text": [
      "enter the number1:10\n",
      "enter the number2:5\n",
      "2.0\n",
      "[5, 6, 7, 8]\n",
      "[5, 6, 7, 8]\n"
     ]
    }
   ],
   "source": [
    "lst1=[5,6,7,8]\n",
    "try:\n",
    "    num1=int(input(\"enter the number1:\"))\n",
    "    num2=int(input(\"enter the number2:\"))\n",
    "    print(num1/num2)\n",
    "    print(lst1)\n",
    "except ValueError:\n",
    "    print(\"enter no\")\n",
    "except ZeroDivisionError as err:\n",
    "    print(\"second no should be greater than zero\")\n",
    "    print(\"error:{}\".format(err))\n",
    "print(lst1)"
   ]
  },
  {
   "cell_type": "code",
   "execution_count": 28,
   "metadata": {},
   "outputs": [
    {
     "name": "stdout",
     "output_type": "stream",
     "text": [
      "enter the number1:10\n",
      "enter the number2:5\n",
      "2.0\n",
      "[5, 6, 7, 8]\n",
      "list index out of range\n",
      "[5, 6, 7, 8]\n"
     ]
    }
   ],
   "source": [
    "lst1=[5,6,7,8]\n",
    "try:\n",
    "    num1=int(input(\"enter the number1:\"))\n",
    "    num2=int(input(\"enter the number2:\"))\n",
    "    print(num1/num2)\n",
    "    print(lst1)\n",
    "    print(lst1[5])\n",
    "except ValueError:\n",
    "    print(\"enter no\")\n",
    "except ZeroDivisionError as err:\n",
    "    print(\"second no should be greater than zero\")\n",
    "    print(\"error:{}\".format(err))\n",
    "except Exception as err:\n",
    "    print(err)\n",
    "print(lst1)"
   ]
  },
  {
   "cell_type": "code",
   "execution_count": 30,
   "metadata": {},
   "outputs": [
    {
     "name": "stdout",
     "output_type": "stream",
     "text": [
      "enter the number1:10\n",
      "enter the number2:5\n",
      "[5, 6, 7, 8]\n",
      "list index out of range\n",
      "[5, 6, 7, 8]\n"
     ]
    }
   ],
   "source": [
    "lst1=[5,6,7,8]\n",
    "try:\n",
    "    num1=int(input(\"enter the number1:\"))\n",
    "    num2=int(input(\"enter the number2:\"))\n",
    "    if num2==0:\n",
    "        raise ValueError\n",
    "    print(lst1)\n",
    "    print(lst1[5])\n",
    "except ValueError:\n",
    "    print(\"enter no\")\n",
    "except ZeroDivisionError as err:\n",
    "    print(\"second no should be greater than zero\")\n",
    "    print(\"error:{}\".format(err))\n",
    "except Exception as err:\n",
    "    print(err)\n",
    "print(lst1)"
   ]
  },
  {
   "cell_type": "code",
   "execution_count": 35,
   "metadata": {},
   "outputs": [
    {
     "name": "stdout",
     "output_type": "stream",
     "text": [
      "enter the number1:10\n",
      "enter the number2:5\n",
      "10/5=2.0\n",
      "inside the block\n"
     ]
    }
   ],
   "source": [
    "try:\n",
    "    num1=int(input(\"enter the number1:\"))\n",
    "    num2=int(input(\"enter the number2:\"))\n",
    "    result=(num1/num2)\n",
    "    print(\"{}/{}={}\".format(num1,num2,result))\n",
    "except ZeroDivisionError as z:\n",
    "    print(\"{} cant be divided with 0\".format(num1))\n",
    "else:\n",
    "    print(\"inside the block\")"
   ]
  },
  {
   "cell_type": "code",
   "execution_count": 36,
   "metadata": {},
   "outputs": [
    {
     "name": "stdout",
     "output_type": "stream",
     "text": [
      "division by zero\n",
      "division operation done\n"
     ]
    }
   ],
   "source": [
    "try:\n",
    "    lst1=[10,20]\n",
    "    x=10/0\n",
    "    y=a\n",
    "    z=lst1[3]\n",
    "except(ArithmeticError,NameError,IndexError) as err:\n",
    "    print(err)#system generated error\n",
    "print(\"division operation done\")"
   ]
  },
  {
   "cell_type": "code",
   "execution_count": 38,
   "metadata": {},
   "outputs": [
    {
     "name": "stdout",
     "output_type": "stream",
     "text": [
      "BGO=.jt5)Hh+O|\n"
     ]
    }
   ],
   "source": [
    "import string\n",
    "from random import *\n",
    "characters = string.ascii_letters + string.punctuation  + string.digits\n",
    "password =  \"\".join(choice(characters) for x in range(randint(8, 16)))\n",
    "print(password)"
   ]
  },
  {
   "cell_type": "code",
   "execution_count": 46,
   "metadata": {},
   "outputs": [
    {
     "name": "stdout",
     "output_type": "stream",
     "text": [
      "https://youtube.com\n",
      "https://python.org\n"
     ]
    }
   ],
   "source": [
    "str1=\"https://youtube.com\"\n",
    "str2=\"https://python.org\"\n",
    "#match=re.search(r'[a-z]+\\:\\/+[a-z]+\\.[a-z]+',str1)\n",
    "#match1=re.search(r'[a-z]+\\:\\/+[a-z]+\\.[a-z]+',str2)\n",
    "match=re.search(r'\\S+',str1)\n",
    "match1=re.search(r'\\S+',str2)\n",
    "print(match.group(0))\n",
    "print(match1.group(0))"
   ]
  },
  {
   "cell_type": "code",
   "execution_count": 50,
   "metadata": {},
   "outputs": [
    {
     "name": "stdout",
     "output_type": "stream",
     "text": [
      "https://youtube.com\n",
      "https://yahoo.co.in\n"
     ]
    }
   ],
   "source": [
    "str1=\"https://youtube.com\"\n",
    "str2=\"https://yahoo.co.in\"\n",
    "#match=re.search(r'[a-z]+\\:\\/+[a-z]+\\.[a-z]+',str1)\n",
    "#match1=re.search(r'[a-z]+:/+[a-z]+.[a-z]+.[a-z]+',str2)\n",
    "match=re.search(r'\\S+',str1)\n",
    "match1=re.search(r'\\S+',str2)\n",
    "print(match.group(0))\n",
    "print(match1.group(0))"
   ]
  },
  {
   "cell_type": "code",
   "execution_count": 55,
   "metadata": {},
   "outputs": [
    {
     "name": "stdout",
     "output_type": "stream",
     "text": [
      "234-456-1234\n",
      "123.456.1234\n"
     ]
    }
   ],
   "source": [
    "import re\n",
    "ph1='234-456-1234'\n",
    "ph2='123.456.1234'\n",
    "match=re.search(r'\\d+[\\-.]+\\d+[\\-.]+\\d+',ph1)\n",
    "match1=re.search(r'\\d+[\\-.]+\\d+[\\-.]+\\d+',ph2)\n",
    "print(match.group(0))\n",
    "print(match1.group(0))\n",
    "\n",
    "                "
   ]
  },
  {
   "cell_type": "code",
   "execution_count": null,
   "metadata": {},
   "outputs": [],
   "source": [
    "import re\n",
    "ph = '+91 987 180 3333'\n",
    "match=re.search(r')"
   ]
  },
  {
   "cell_type": "code",
   "execution_count": null,
   "metadata": {},
   "outputs": [],
   "source": [
    "name1 = 'Mr. Ram'\n",
    "name2 = 'Mr .John'"
   ]
  },
  {
   "cell_type": "code",
   "execution_count": null,
   "metadata": {},
   "outputs": [],
   "source": [
    "date1= '21/10/2019'"
   ]
  },
  {
   "cell_type": "code",
   "execution_count": 58,
   "metadata": {},
   "outputs": [
    {
     "name": "stdout",
     "output_type": "stream",
     "text": [
      "Soundarya\n",
      "20\n",
      "Soundarya\n",
      "<__main__.Student object at 0x0417F170>\n"
     ]
    }
   ],
   "source": [
    "#oop\n",
    "class Student:#class name start letter should be capital\n",
    "    name='Soundarya'\n",
    "    rollno=20\n",
    "    def displayname(self):\n",
    "        return self.name\n",
    "        \n",
    "student1=Student()#object is created\n",
    "print(student1.name)\n",
    "print(student1.rollno)\n",
    "print(student1.displayname())\n",
    "print(student1)#sepcifies the memory location\n"
   ]
  },
  {
   "cell_type": "code",
   "execution_count": 62,
   "metadata": {},
   "outputs": [
    {
     "name": "stdout",
     "output_type": "stream",
     "text": [
      "non-parametreized constructor\n"
     ]
    }
   ],
   "source": [
    "class Student:#non-paramterized constructor\n",
    "    def __init__(self):\n",
    "        print(\"non-parametreized constructor\")\n",
    "student1=Student()"
   ]
  },
  {
   "cell_type": "code",
   "execution_count": 75,
   "metadata": {},
   "outputs": [
    {
     "name": "stdout",
     "output_type": "stream",
     "text": [
      "10 sound saaai 20\n",
      "10 sai saaai 20\n",
      "<__main__.Student object at 0x0418F050>\n",
      "{'rollno': 10, 'name': 'sound', 'age': 20}\n",
      "{'rollno': 10, 'name': 'sai', 'age': 21}\n",
      "{'rollno': 13, 'name': 'sound', 'age': 20}\n",
      "{'rollno': 13, 'name': 'sound'}\n"
     ]
    }
   ],
   "source": [
    "class Student:\n",
    "    school='saaai'#same throughout the class\n",
    "    def __init__(self,rollno,name,age):\n",
    "        self.rollno=rollno\n",
    "        self.name=name\n",
    "        self.age=age\n",
    "student1=Student(10,'sound',20)\n",
    "student2=Student(10,'sai',21)\n",
    "print(student1.rollno,student1.name,student1.school,student1.age)\n",
    "print(student2.rollno,student2.name,student2.school,student1.age)\n",
    "print(student1)\n",
    "print(student1.__dict__)#to access along with key value\n",
    "print(student2.__dict__)\n",
    "student1.rollno=13#change the roll no\n",
    "print(student1.__dict__)\n",
    "del student1.age\n",
    "print(student1.__dict__)"
   ]
  },
  {
   "cell_type": "code",
   "execution_count": 18,
   "metadata": {},
   "outputs": [
    {
     "name": "stdout",
     "output_type": "stream",
     "text": [
      "Soundarya Jaishankar Prodapt\n",
      "Lalitha Sadasivam Prodapt\n"
     ]
    }
   ],
   "source": [
    "class Employee:\n",
    "    cmpname=\"Prodapt\"\n",
    "    def __init__(self,firstname,lastname):\n",
    "        self.firstname=firstname\n",
    "        self.lastname=lastname\n",
    "\n",
    "employee1=Employee(\"Soundarya\",\"Jaishankar\")\n",
    "employee2=Employee(\"Lalitha\",\"Sadasivam\")\n",
    "print(employee1.firstname,employee1.lastname,Employee.cmpname)#we can call also by using class name\n",
    "print(employee2.firstname,employee2.lastname,Employee.cmpname)"
   ]
  },
  {
   "cell_type": "code",
   "execution_count": 14,
   "metadata": {},
   "outputs": [
    {
     "name": "stdout",
     "output_type": "stream",
     "text": [
      "Enter your credit card number1234-5678-1234-1224\n",
      "Invalid\n"
     ]
    }
   ],
   "source": [
    "import re\n",
    "credit=input(\"Enter your credit card number\")\n",
    "match=re.search(r'[4-6]{1}[0-9]{3}-?[0-9]{4}-?[0-9]{4}-?[0-9]{4}',credit)\n",
    "if(match):\n",
    "    l=len(credit)\n",
    "    for i in range(0,l-3,1):\n",
    "        flag=0\n",
    "        for j in range(i+1,l,1):\n",
    "            if credit[i]==credit[j]:\n",
    "                flag+=1\n",
    "        if flag>=4:\n",
    "           print(\"Invalid\")\n",
    "           break\n",
    "        break\n",
    "    print(\"valid\")    \n",
    "else:\n",
    "    print(\"Invalid\")"
   ]
  }
 ],
 "metadata": {
  "kernelspec": {
   "display_name": "Python 3",
   "language": "python",
   "name": "python3"
  },
  "language_info": {
   "codemirror_mode": {
    "name": "ipython",
    "version": 3
   },
   "file_extension": ".py",
   "mimetype": "text/x-python",
   "name": "python",
   "nbconvert_exporter": "python",
   "pygments_lexer": "ipython3",
   "version": "3.7.3"
  }
 },
 "nbformat": 4,
 "nbformat_minor": 2
}
